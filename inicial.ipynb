{
 "cells": [
  {
   "cell_type": "markdown",
   "metadata": {},
   "source": [
    "# Python Insights - Analisando Dados com Python\n",
    "\n",
    "### Case - Cancelamento de Clientes\n",
    "\n",
    "Você foi contratado por uma empresa com mais de 800 mil clientes para um projeto de Dados. Recentemente a empresa percebeu que da sua base total de clientes, a maioria são clientes inativos, ou seja, que já cancelaram o serviço.\n",
    "\n",
    "Precisando melhorar seus resultados ela quer conseguir entender os principais motivos desses cancelamentos e quais as ações mais eficientes para reduzir esse número.\n",
    "\n",
    "Base de dados e arquivos: https://drive.google.com/drive/folders/1uDesZePdkhiraJmiyeZ-w5tfc8XsNYFZ?usp=drive_link"
   ]
  },
  {
   "cell_type": "code",
   "execution_count": 1,
   "metadata": {},
   "outputs": [],
   "source": [
    "# !pip install pandas openpyxl numpy ipykernel nbformat plotly \n",
    "\n",
    "# Passo 1: Importar a base de dados\n",
    "import pandas\n",
    "\n",
    "tabela = pandas.read_csv(\"cancelamentos.csv\")\n",
    "\n",
    "# Passo 2: Visualizar a base de dados\n",
    "       # entender o que tem na base de dados\n",
    "       # encontrar as cagadas da base de dados\n",
    "\n",
    "# colunas inúteis - informação que não te ajuda, te atrapalha\n",
    "# tirar coluna de CustomerID\n",
    "tabela = tabela.drop(columns=\"CustomerID\")\n",
    "display(tabela)"
   ]
  },
  {
   "cell_type": "code",
   "execution_count": 3,
   "metadata": {},
   "outputs": [],
   "source": [
    "# Passo 3: Tratamento de Dados - Corrigir as cagadas da base de dados\n",
    "    # informações  no formato errado\n",
    "display(tabela.info())\n",
    "    #float = numero com casa decimal\n",
    "    #object = coluna de texto\n",
    "\n",
    "    # valores vazios - excluir as linhas que tem valores vazios\n",
    "tabela = tabela.dropna()\n",
    "#tabela = tabela.fillna()\n",
    "\n",
    "display(tabela.info())"
   ]
  },
  {
   "cell_type": "code",
   "execution_count": 5,
   "metadata": {},
   "outputs": [],
   "source": [
    "# Passo 4: Análise Inicial dos cancelamentos\n",
    "display(tabela[\"cancelou\"].value_counts())\n",
    "\n",
    "display(tabela[\"cancelou\"].value_counts(normalize=True))\n",
    "\n",
    "# display(tabela[\"cancelou\"].value_counts(normalize=True).map(\"{:.1%}\".format))"
   ]
  },
  {
   "cell_type": "code",
   "execution_count": 6,
   "metadata": {},
   "outputs": [],
   "source": [
    "# Passo 5: Análise de causas do cancelamento dos clientes \n",
    "import plotly.express as px\n",
    "\n",
    "coluna = \"assinatura\"\n",
    "for coluna in tabela.columns:\n",
    "    # cria o gráfico\n",
    "    grafico = px.histogram(tabela, x=coluna, color=\"cancelou\")\n",
    "\n",
    "    # exibe o gráfico\n",
    "    grafico.show()"
   ]
  },
  {
   "cell_type": "code",
   "execution_count": null,
   "metadata": {},
   "outputs": [],
   "source": [
    "# Todos os clientes que ligaram mais de 4x vezes pro call center, cancelaram.\n",
    "  # Criar um processo interno para resolver os problemas do cliente em no máximo 3 ligações.\n",
    "\n",
    "# Todos os clientes que atrasaram mais de 20 dias o pagamento, cancelaram.\n",
    "  # Criar um processo que quando bate 10 dias de atraso do pagamento, liga para o cliente.\n",
    "\n",
    "# Todos os clientes de contrato mensal, cancelaram.\n",
    "  # Oferece desconto no cadastro anual/trimestral."
   ]
  }
 ],
 "metadata": {
  "kernelspec": {
   "display_name": "base",
   "language": "python",
   "name": "python3"
  },
  "language_info": {
   "codemirror_mode": {
    "name": "ipython",
    "version": 3
   },
   "file_extension": ".py",
   "mimetype": "text/x-python",
   "name": "python",
   "nbconvert_exporter": "python",
   "pygments_lexer": "ipython3",
   "version": "3.12.4"
  },
  "orig_nbformat": 4
 },
 "nbformat": 4,
 "nbformat_minor": 2
}
